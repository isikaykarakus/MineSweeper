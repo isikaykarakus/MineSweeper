{
  "nbformat": 4,
  "nbformat_minor": 0,
  "metadata": {
    "colab": {
      "provenance": [],
      "authorship_tag": "ABX9TyOuI+0IO/fugitPqdZwow1m",
      "include_colab_link": true
    },
    "kernelspec": {
      "name": "python3",
      "display_name": "Python 3"
    },
    "language_info": {
      "name": "python"
    }
  },
  "cells": [
    {
      "cell_type": "markdown",
      "metadata": {
        "id": "view-in-github",
        "colab_type": "text"
      },
      "source": [
        "<a href=\"https://colab.research.google.com/github/isikaykarakus/MineSweeper/blob/main/Minesweeper_IsikayKarakus_2071938.ipynb\" target=\"_parent\"><img src=\"https://colab.research.google.com/assets/colab-badge.svg\" alt=\"Open In Colab\"/></a>"
      ]
    },
    {
      "cell_type": "markdown",
      "source": [
        "# **Minesweeper Solver Using SAT**\n",
        "\n",
        "This project is part of the course **Knowledge Representation and Learning 2023-2024** taught by Prof. Roberto Confalonieri and Prof. Luciano Serafini.\n",
        "\n",
        "Işıkay KARAKUŞ **2071938**\n",
        "\n",
        "## **Problem Description**\n",
        "\n",
        "Minesweeper is a classic puzzle game where mines are hidden in a grid of squares. The objective is to uncover all the cells that do not contain mines. The game provides clues in the form of numbers within revealed cells, indicating how many of the adjacent cells contain mines. The challenge is to use these clues to deduce the location of all the mines without triggering any.\n",
        "\n",
        "This project leverages a SAT (Satisfiability) solver to systematically determine which cells are safe and which contain mines. SAT solvers are powerful tools that can decide the satisfiability of logical propositions, making them well-suited for solving Minesweeper puzzles.\n"
      ],
      "metadata": {
        "id": "vsVXYNVSxP73"
      }
    },
    {
      "cell_type": "code",
      "execution_count": 1,
      "metadata": {
        "colab": {
          "base_uri": "https://localhost:8080/"
        },
        "id": "nuKXiKR1tkp_",
        "outputId": "75cd5374-7623-42bf-fd05-252ee0f1e692"
      },
      "outputs": [
        {
          "output_type": "stream",
          "name": "stdout",
          "text": [
            "Collecting python-sat\n",
            "  Downloading python_sat-1.8.dev13-cp310-cp310-manylinux_2_12_x86_64.manylinux2010_x86_64.manylinux_2_28_x86_64.whl (2.7 MB)\n",
            "\u001b[2K     \u001b[90m━━━━━━━━━━━━━━━━━━━━━━━━━━━━━━━━━━━━━━━━\u001b[0m \u001b[32m2.7/2.7 MB\u001b[0m \u001b[31m6.4 MB/s\u001b[0m eta \u001b[36m0:00:00\u001b[0m\n",
            "\u001b[?25hRequirement already satisfied: six in /usr/local/lib/python3.10/dist-packages (from python-sat) (1.16.0)\n",
            "Installing collected packages: python-sat\n",
            "Successfully installed python-sat-1.8.dev13\n"
          ]
        }
      ],
      "source": [
        "%pip install python-sat\n",
        "from itertools import combinations\n",
        "from pysat.solvers import Minisat22\n",
        "\n"
      ]
    },
    {
      "cell_type": "markdown",
      "source": [
        "## **Code Explanation**\n",
        "\n",
        "### **Initialization and Encoding**\n",
        "\n",
        "The code is structured using a class `MinesweeperSolver` that encapsulates the functionality needed to solve the Minesweeper game using a SAT solver.\n",
        "\n",
        "\n",
        "\n"
      ],
      "metadata": {
        "id": "USyPGMDFxiCy"
      }
    },
    {
      "cell_type": "code",
      "source": [
        "class MinesweeperSolver:\n",
        "    \"\"\"Purpose: Initializes the solver with the game state and calculates the dimensions of the grid.\n",
        "       Parameters:\n",
        "       game: A list of strings representing the Minesweeper grid.\"\"\"\n",
        "\n",
        "    def __init__(self, game):\n",
        "        self.game = game\n",
        "        self.width = len(game[0])\n",
        "        self.height = len(game)\n",
        "\n",
        "    def pos_mat(self, r, c):\n",
        "\n",
        "        \"\"\"Purpose: Encodes each cell into a unique number for the SAT solver.\n",
        "           Parameters:\n",
        "           r: Row of the cell.\n",
        "           c: Column of the cell.\n",
        "           Returns: A unique integer representing the cell.\"\"\"\n",
        "\n",
        "        return r * (self.width + 2) + c + 1\n",
        "\n",
        "    def add_border_constraints(self, solver):\n",
        "        \"\"\"Adds constraints for border cells (no mines).\"\"\"\n",
        "        for c in range(self.width + 2):\n",
        "            solver.add_clause([-self.pos_mat(0, c)])\n",
        "            solver.add_clause([-self.pos_mat(self.height + 1, c)])\n",
        "        for r in range(self.height + 2):\n",
        "            solver.add_clause([-self.pos_mat(r, 0)])\n",
        "            solver.add_clause([-self.pos_mat(r, self.width + 1)])\n",
        "\n",
        "### Adding Constraints\n",
        "\n",
        "#The constraints for the SAT solver are added based on the known cells in the game.\n",
        "\n",
        "\n",
        "    def add_cell_constraints(self, solver):\n",
        "        \"\"\"Adds constraints based on the known cells in the game.\"\"\"\n",
        "        for r in range(1, self.height + 1):\n",
        "            for c in range(1, self.width + 1):\n",
        "                t = self.game[r - 1][c - 1]\n",
        "                if t in \"1234567\":\n",
        "                    solver.add_clause([-self.pos_mat(r, c)])  # No mines in a cell with a number\n",
        "                    self.add_number_constraints(solver, r, c, int(t))\n",
        "                elif t == \"0\":\n",
        "                    solver.add_clause([-self.pos_mat(r, c)])  # No mine in a cell with a 0\n",
        "                    self.add_zero_constraints(solver, r, c)\n",
        "                elif t == \"8\":\n",
        "                    solver.add_clause([-self.pos_mat(r, c)])  # No mines in a cell with an 8\n",
        "                    self.add_eight_constraints(solver, r, c)\n",
        "\n",
        "### Number, Zero, and Eight Constraints\n",
        "\n",
        "#Additional methods handle specific constraints for numbered cells, zero cells, and cells showing an eight.\n",
        "\n",
        "    def add_number_constraints(self, solver, r, c, num):\n",
        "        \"\"\"Adds constraints for cells showing a number (1-7).\"\"\"\n",
        "        cells_around = [\n",
        "            -self.pos_mat(r - 1, c - 1), -self.pos_mat(r - 1, c), -self.pos_mat(r - 1, c + 1),\n",
        "            -self.pos_mat(r, c - 1), -self.pos_mat(r, c + 1),\n",
        "            -self.pos_mat(r + 1, c - 1), -self.pos_mat(r + 1, c), -self.pos_mat(r + 1, c + 1)\n",
        "        ]\n",
        "        cells_around_neg = [\n",
        "            self.pos_mat(r - 1, c - 1), self.pos_mat(r - 1, c), self.pos_mat(r - 1, c + 1),\n",
        "            self.pos_mat(r, c - 1), self.pos_mat(r, c + 1),\n",
        "            self.pos_mat(r + 1, c - 1), self.pos_mat(r + 1, c), self.pos_mat(r + 1, c + 1)\n",
        "        ]\n",
        "\n",
        "        s_most = list(combinations(cells_around, 1 + num))\n",
        "        s_least = list(combinations(cells_around_neg, 8 - num + 1))\n",
        "\n",
        "        for x in s_most:\n",
        "            solver.add_clause(x)\n",
        "        for y in s_least:\n",
        "            solver.add_clause(y)\n",
        "\n",
        "    def add_zero_constraints(self, solver, r, c):\n",
        "        \"\"\"Adds constraints for cells showing a zero.\"\"\"\n",
        "        cells_around = [\n",
        "            self.pos_mat(r - 1, c - 1), self.pos_mat(r - 1, c), self.pos_mat(r - 1, c + 1),\n",
        "            self.pos_mat(r, c - 1), self.pos_mat(r, c + 1),\n",
        "            self.pos_mat(r + 1, c - 1), self.pos_mat(r + 1, c), self.pos_mat(r + 1, c + 1)\n",
        "        ]\n",
        "        for cell in cells_around:\n",
        "            solver.add_clause([-cell])\n",
        "\n",
        "    def add_eight_constraints(self, solver, r, c):\n",
        "        \"\"\"Adds constraints for cells showing an eight.\"\"\"\n",
        "        cells_around = [\n",
        "            self.pos_mat(r - 1, c - 1), self.pos_mat(r - 1, c), self.pos_mat(r - 1, c + 1),\n",
        "            self.pos_mat(r, c - 1), self.pos_mat(r, c + 1),\n",
        "            self.pos_mat(r + 1, c - 1), self.pos_mat(r + 1, c), self.pos_mat(r + 1, c + 1)\n",
        "        ]\n",
        "        for cell in cells_around:\n",
        "            solver.add_clause([cell])\n",
        "\n",
        "#### Checking a Cell for Mine\n",
        "\n",
        "    def check_mine(self, row, col, mine):\n",
        "        \"\"\"Checks whether a cell contains a mine or is safe.\"\"\"\n",
        "        solver = Minisat22()\n",
        "\n",
        "        self.add_border_constraints(solver)\n",
        "        self.add_cell_constraints(solver)\n",
        "\n",
        "        if mine:\n",
        "            solver.add_clause([self.pos_mat(row, col)])  # Assume mine\n",
        "            if not solver.solve():\n",
        "                print(f\"row={row} col={col}, -> No mine\")\n",
        "        else:\n",
        "            solver.add_clause([-self.pos_mat(row, col)])  # Assume no mine\n",
        "            if not solver.solve():\n",
        "                print(f\"row={row} col={col}, -> MINE\")\n",
        "\n",
        "#### Solve the Minesweeper game\n",
        "\n",
        "    def solve(self):\n",
        "        \"\"\"Solves the Minesweeper game and prints the results for hidden cells.\"\"\"\n",
        "        for r in range(self.height):\n",
        "            for c in range(self.width):\n",
        "                if self.game[r][c] == \"?\":\n",
        "                    self.check_mine(r + 1, c + 1, mine=True)\n",
        "                    self.check_mine(r + 1, c + 1, mine=False)\n",
        "\n"
      ],
      "metadata": {
        "id": "TNejNat4tpBx"
      },
      "execution_count": 2,
      "outputs": []
    },
    {
      "cell_type": "markdown",
      "source": [
        "## **Example Usage**\n",
        "\n",
        "This section demonstrates how to use the `MinesweeperSolver` class with an example game state. The class initialized with a predefined Minesweeper grid and then call the `solve` method to analyze the grid and determine the status of each hidden cell.\n",
        "\n"
      ],
      "metadata": {
        "id": "yuS5EeoazIEl"
      }
    },
    {
      "cell_type": "code",
      "source": [
        "# Example usage\n",
        "game = [\n",
        "    \"001??????\",\n",
        "    \"001??????\",\n",
        "    \"00112????\",\n",
        "    \"00001????\",\n",
        "    \"000011???\",\n",
        "    \"000001???\",\n",
        "    \"000012???\",\n",
        "    \"12322????\",\n",
        "    \"?????????\"\n",
        "]\n",
        "\n",
        "solver = MinesweeperSolver(game)\n",
        "solver.solve()\n"
      ],
      "metadata": {
        "colab": {
          "base_uri": "https://localhost:8080/"
        },
        "id": "eZgDJ8v4tqQH",
        "outputId": "22a589fe-4676-4fc1-d05e-9639cbfb0153"
      },
      "execution_count": 3,
      "outputs": [
        {
          "output_type": "stream",
          "name": "stdout",
          "text": [
            "row=1 col=4, -> No mine\n",
            "row=2 col=4, -> MINE\n",
            "row=2 col=5, -> No mine\n",
            "row=2 col=6, -> No mine\n",
            "row=3 col=6, -> No mine\n",
            "row=4 col=6, -> MINE\n",
            "row=4 col=7, -> No mine\n",
            "row=5 col=7, -> No mine\n",
            "row=6 col=7, -> No mine\n",
            "row=7 col=7, -> MINE\n",
            "row=8 col=6, -> MINE\n",
            "row=8 col=7, -> No mine\n",
            "row=9 col=1, -> No mine\n",
            "row=9 col=2, -> MINE\n",
            "row=9 col=3, -> MINE\n",
            "row=9 col=4, -> MINE\n",
            "row=9 col=5, -> No mine\n",
            "row=9 col=6, -> No mine\n"
          ]
        }
      ]
    }
  ]
}